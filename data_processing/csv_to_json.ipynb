{
 "cells": [
  {
   "cell_type": "code",
   "execution_count": 1,
   "metadata": {},
   "outputs": [],
   "source": [
    "import csv\n",
    "import json"
   ]
  },
  {
   "cell_type": "code",
   "execution_count": 2,
   "metadata": {},
   "outputs": [],
   "source": [
    "def csv_to_json(csv_file_path, json_file_path):\n",
    "    data = []\n",
    "\n",
    "    with open(csv_file_path, mode='r', encoding='utf-8') as csv_file:\n",
    "        csv_reader = csv.DictReader(csv_file)\n",
    "\n",
    "        for row in csv_reader:\n",
    "            data.append(row)\n",
    "\n",
    "    with open(json_file_path, mode='w', encoding='utf-8') as json_file:\n",
    "        json_file.write(json.dumps(data, indent=4))"
   ]
  },
  {
   "cell_type": "code",
   "execution_count": 3,
   "metadata": {},
   "outputs": [],
   "source": [
    "csv_to_json('../data/BTC17_21.csv', '../data/BTC17_21.json')\n",
    "csv_to_json('../data/Dow_Jones.csv', '../data/Dow_Jones.json')\n",
    "csv_to_json('../data/HGX17_21.csv', '../data/HGX17_21.json')\n",
    "csv_to_json('../data/NASDAQ17_21.csv', '../data/NASDAQ17_21.json')\n",
    "csv_to_json('../data/QQQ17_21.csv', '../data/QQQ17_21.json')\n",
    "csv_to_json('../data/S_P500.csv', '../data/S_P500.json')\n",
    "csv_to_json('../data/VIX17_21.csv', '../data/VIX17_21.json')\n"
   ]
  }
 ],
 "metadata": {
  "kernelspec": {
   "display_name": "Python 3",
   "language": "python",
   "name": "python3"
  },
  "language_info": {
   "codemirror_mode": {
    "name": "ipython",
    "version": 3
   },
   "file_extension": ".py",
   "mimetype": "text/x-python",
   "name": "python",
   "nbconvert_exporter": "python",
   "pygments_lexer": "ipython3",
   "version": "3.11.4"
  }
 },
 "nbformat": 4,
 "nbformat_minor": 2
}
