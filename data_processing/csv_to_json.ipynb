{
 "cells": [
  {
   "cell_type": "code",
   "execution_count": 1,
   "metadata": {},
   "outputs": [],
   "source": [
    "import csv\n",
    "import json"
   ]
  },
  {
   "cell_type": "code",
   "execution_count": 2,
   "metadata": {},
   "outputs": [],
   "source": [
    "def csv_to_json(csv_file_path, json_file_path):\n",
    "    data = []\n",
    "\n",
    "    with open(csv_file_path, mode='r', encoding='utf-8') as csv_file:\n",
    "        csv_reader = csv.DictReader(csv_file)\n",
    "\n",
    "        for row in csv_reader:\n",
    "            data.append(row)\n",
    "\n",
    "    with open(json_file_path, mode='w', encoding='utf-8') as json_file:\n",
    "        json_file.write(json.dumps(data, indent=4))"
   ]
  },
  {
   "cell_type": "markdown",
   "metadata": {},
   "source": [
    "Daily data from csv to json format"
   ]
  },
  {
   "cell_type": "code",
   "execution_count": 3,
   "metadata": {},
   "outputs": [],
   "source": [
    "csv_to_json('../data/csv/BTC-USD/Daily_17-20.csv', '../data/json/BTC-USD/Daily_17-20.json')\n",
    "csv_to_json('../data/csv/DJI/Daily_17-20.csv', '../data/json/DJI/Daily_17-20.json')\n",
    "csv_to_json('../data/csv/HGX/Daily_17-21.csv', '../data/json/HGX/Daily_17-20.json')\n",
    "csv_to_json('../data/csv/IXIC/Daily_17-20.csv', '../data/json/IXIC/Daily_17-20.json')\n",
    "csv_to_json('../data/csv/QQQ/Daily_17-21.csv', '../data/json/QQQ/Daily_17-20.json')\n",
    "csv_to_json('../data/csv/VIX/Daily_17-20.csv', '../data/json/VIX/Daily_17-20.json')"
   ]
  },
  {
   "cell_type": "markdown",
   "metadata": {},
   "source": [
    "Weekly data from csv to json format"
   ]
  },
  {
   "cell_type": "code",
   "execution_count": 4,
   "metadata": {},
   "outputs": [],
   "source": [
    "csv_to_json('../data/csv/BTC-USD/Weekly_17-20.csv', '../data/json/BTC-USD/Weekly_17-20.json')\n",
    "csv_to_json('../data/csv/DJI/Weekly_17-20.csv', '../data/json/DJI/Weekly_17-20.json')\n",
    "csv_to_json('../data/csv/HGX/Weekly_17-20.csv', '../data/json/HGX/Weekly_17-20.json')\n",
    "csv_to_json('../data/csv/IXIC/Weekly_17-20.csv', '../data/json/IXIC/Weekly_17-20.json')\n",
    "csv_to_json('../data/csv/QQQ/Weekly_17-20.csv', '../data/json/QQQ/Weekly_17-20.json')\n",
    "csv_to_json('../data/csv/VIX/Weekly_17-20.csv', '../data/json/VIX/Weekly_17-20.json')"
   ]
  },
  {
   "cell_type": "markdown",
   "metadata": {},
   "source": [
    "Monthly data from csv to json format"
   ]
  },
  {
   "cell_type": "code",
   "execution_count": 5,
   "metadata": {},
   "outputs": [],
   "source": [
    "csv_to_json('../data/csv/BTC-USD/Monthly_17-20.csv', '../data/json/BTC-USD/Monthly_17-20.json')\n",
    "csv_to_json('../data/csv/DJI/Monthly_17-20.csv', '../data/json/DJI/Monthly_17-20.json')\n",
    "csv_to_json('../data/csv/HGX/Monthly_17-20.csv', '../data/json/HGX/Monthly_17-20.json')\n",
    "csv_to_json('../data/csv/IXIC/Monthly_17-20.csv', '../data/json/IXIC/Monthly_17-20.json')\n",
    "csv_to_json('../data/csv/QQQ/Monthly_17-20.csv', '../data/json/QQQ/Monthly_17-20.json')\n",
    "csv_to_json('../data/csv/VIX/Monthly_17-20.csv', '../data/json/VIX/Monthly_17-20.json')"
   ]
  }
 ],
 "metadata": {
  "kernelspec": {
   "display_name": "Python 3",
   "language": "python",
   "name": "python3"
  },
  "language_info": {
   "codemirror_mode": {
    "name": "ipython",
    "version": 3
   },
   "file_extension": ".py",
   "mimetype": "text/x-python",
   "name": "python",
   "nbconvert_exporter": "python",
   "pygments_lexer": "ipython3",
   "version": "3.11.4"
  }
 },
 "nbformat": 4,
 "nbformat_minor": 2
}
